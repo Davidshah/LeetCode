{
 "cells": [
  {
   "cell_type": "markdown",
   "metadata": {},
   "source": [
    "# Two Sum\n",
    "\n",
    "**Disclaimer: This contains a solution to a LeetCode problem. Anyone who wishes to work out these problems on their own should stop reading now.**\n",
    "\n",
    "You are given two linked lists representing two non-negative numbers. The digits are stored in reverse order and each of their nodes contain a single digit. Add the two numbers and return it as a linked list. Example:\n",
    "\n",
    "```\n",
    "Input: (2 -> 4 -> 3) + (5 -> 6 -> 4)\n",
    "Output: 7 -> 0 -> 8\n",
    "```"
   ]
  },
  {
   "cell_type": "markdown",
   "metadata": {},
   "source": [
    "### Solution\n",
    "This can be solved by performing a digits-by-digits sum and keeping track of the carry using a variable. This is just how we would sum two numbers on a piece of paper. We start by summing the least-significant digits (`l1.val` and `l2.val`) and if the solution is greater than 9 we store the remainder in `carry` to be added to the next digit space."
   ]
  },
  {
   "cell_type": "code",
   "execution_count": 2,
   "metadata": {
    "collapsed": true
   },
   "outputs": [],
   "source": [
    "# Brute Force Solution\n",
    "# Time:  O(max(n,m))\n",
    "# Space: O(max(n,m))\n",
    "\n",
    "# Definition for singly-linked list.\n",
    "class ListNode(object):\n",
    "     def __init__(self, x):\n",
    "         self.val = x\n",
    "         self.next = None\n",
    "\n",
    "class Solution(object):\n",
    "    def addTwoNumbers(self, l1, l2):\n",
    "        \"\"\"\n",
    "        :type l1: ListNode\n",
    "        :type l2: ListNode\n",
    "        :rtype: ListNode\n",
    "        \"\"\"\n",
    "        # Initialize answer and current node variable\n",
    "        ans = n = ListNode(0)\n",
    "        \n",
    "        # Initialize remainder variable\n",
    "        carry = 0\n",
    "        \n",
    "        # While input exist\n",
    "        while l1 or l2 or carry: \n",
    "            \n",
    "            # Set carry and progress to next node\n",
    "            if l1:\n",
    "                carry += l1.val\n",
    "                l1 = l1.next\n",
    "                \n",
    "            # Set carry and progress to next node    \n",
    "            if l2:\n",
    "                carry += l2.val\n",
    "                l2 = l2.next\n",
    "                \n",
    "            # Divide carry by 10 to get node value and remainder\n",
    "            carry, val = divmod(carry, 10)\n",
    "            \n",
    "            # Set current node as value and progress to next node\n",
    "            n.next = n = ListNode(val)\n",
    "            \n",
    "        return ans.next\n",
    "    "
   ]
  }
 ],
 "metadata": {
  "anaconda-cloud": {},
  "kernelspec": {
   "display_name": "Python [conda root]",
   "language": "python",
   "name": "conda-root-py"
  },
  "language_info": {
   "codemirror_mode": {
    "name": "ipython",
    "version": 2
   },
   "file_extension": ".py",
   "mimetype": "text/x-python",
   "name": "python",
   "nbconvert_exporter": "python",
   "pygments_lexer": "ipython2",
   "version": "2.7.12"
  }
 },
 "nbformat": 4,
 "nbformat_minor": 1
}
