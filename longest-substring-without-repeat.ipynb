{
 "cells": [
  {
   "cell_type": "markdown",
   "metadata": {},
   "source": [
    "# Longest Substring Without Repeating Characters\n",
    "\n",
    "**Disclaimer: This contains a solution to a LeetCode problem. Anyone who wishes to work out these problems on their own should stop reading now.**\n",
    "\n",
    "Given a string, find the length of the longest substring without repeating characters. Examples:\n",
    "\n",
    "* Given `\"abcabcbb\"`, the answer is `\"abc\"`, which the length is 3.\n",
    "* Given `\"bbbbb\"`, the answer is `\"b\"`, with the length of 1.\n",
    "* Given `\"pwwkew\"`, the answer is `\"wke\"`, with the length of 3. Note that the answer must be a substring, `\"pwke\"` is a subsequence and not a substring."
   ]
  },
  {
   "cell_type": "code",
   "execution_count": 1,
   "metadata": {
    "collapsed": true
   },
   "outputs": [],
   "source": [
    "# Brute Force Solution\n",
    "# Time:  O(n^3)\n",
    "# Space: O(min(n,m))\n",
    "\n",
    "class Solution(object):\n",
    "    def lengthOfLongestSubstring(self, s):\n",
    "        \"\"\"\n",
    "        :type s: str\n",
    "        :rtype: int\n",
    "        \"\"\"\n",
    "        \n",
    "        n = len(s)\n",
    "        ans = 0\n",
    "        \n",
    "        for i in xrange(n):\n",
    "            for j in xrange(i+1,n):\n",
    "                characters = set()\n",
    "                for c in xrange(i,j):\n",
    "                    char = s[c]\n",
    "                    if char in characters:\n",
    "                        break\n",
    "                    else:\n",
    "                        characters.add(char)\n",
    "                        \n",
    "                if len(characters) > ans:\n",
    "                    ans = len(characters)\n",
    "                    \n",
    "        return ans       "
   ]
  },
  {
   "cell_type": "code",
   "execution_count": 2,
   "metadata": {
    "collapsed": true
   },
   "outputs": [],
   "source": [
    "# Test\n",
    "assert Solution().lengthOfLongestSubstring(\"abcabcbb\") == 3\n",
    "assert Solution().lengthOfLongestSubstring(\"bbbbb\") == 1\n",
    "assert Solution().lengthOfLongestSubstring(\"pwwkew\") == 3"
   ]
  },
  {
   "cell_type": "code",
   "execution_count": 23,
   "metadata": {
    "collapsed": true
   },
   "outputs": [],
   "source": [
    "# Hash Table Solution\n",
    "# Time:  O(n+m)\n",
    "# Space: O(m)\n",
    "\n",
    "class Solution(object):\n",
    "    def lengthOfLongestSubstring(self, s):\n",
    "        \"\"\"\n",
    "        :type s: str\n",
    "        :rtype: int\n",
    "        \"\"\"\n",
    "        # Return 0 for certain edge cases\n",
    "        if s == \"\":\n",
    "            return 0\n",
    "        \n",
    "        # Initialize variables\n",
    "        n = len(s)   # length of the string\n",
    "        holder = 1   # holds current length for comparison\n",
    "        ans = 1      # stores longest string\n",
    "        prev_idx = 0 # holds preview index    \n",
    " \n",
    "        # Initialize the visited array. -1 represents a character\n",
    "        # has not been visited\n",
    "        visited = [-1] * 256 # number of characters\n",
    " \n",
    "        # Set first letter as visited\n",
    "        visited[ord(s[0])] = 0\n",
    " \n",
    "        # Start from the second character.\n",
    "        for i in xrange(1, n):\n",
    "            # Check if character in our visited array\n",
    "            prev_idx = visited[ord(s[i])]\n",
    " \n",
    "            # If current letter not in visited or it\n",
    "            # is not part of current substring then\n",
    "            # increase current length\n",
    "            if prev_idx == -1 or (i - holder > prev_idx):\n",
    "                holder += 1\n",
    " \n",
    "            # If the current character is present in visted,\n",
    "            # restart string at next character and check if\n",
    "            # current holder is longest substring.\n",
    "            else:\n",
    "                if holder > ans:\n",
    "                    ans = holder\n",
    " \n",
    "                holder = i - prev_idx\n",
    " \n",
    "            # update the index of current character\n",
    "            visited[ord(s[i])] = i\n",
    " \n",
    "        # Compare the length of last substring with answer\n",
    "        if holder > ans:\n",
    "            ans = holder\n",
    " \n",
    "        return ans"
   ]
  },
  {
   "cell_type": "code",
   "execution_count": 24,
   "metadata": {
    "collapsed": false
   },
   "outputs": [],
   "source": [
    "# Test\n",
    "assert Solution().lengthOfLongestSubstring(\"abcabcbb\") == 3\n",
    "assert Solution().lengthOfLongestSubstring(\"bbbbb\") == 1\n",
    "assert Solution().lengthOfLongestSubstring(\"pwwkew\") == 3\n",
    "assert Solution().lengthOfLongestSubstring(\"aabbccddfghijklmnop\") == 12"
   ]
  }
 ],
 "metadata": {
  "kernelspec": {
   "display_name": "Python [conda root]",
   "language": "python",
   "name": "conda-root-py"
  },
  "language_info": {
   "codemirror_mode": {
    "name": "ipython",
    "version": 2
   },
   "file_extension": ".py",
   "mimetype": "text/x-python",
   "name": "python",
   "nbconvert_exporter": "python",
   "pygments_lexer": "ipython2",
   "version": "2.7.12"
  }
 },
 "nbformat": 4,
 "nbformat_minor": 1
}
