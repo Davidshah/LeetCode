{
 "cells": [
  {
   "cell_type": "markdown",
   "metadata": {},
   "source": [
    "# Longest Palindromic Substring\n",
    "\n",
    "**Disclaimer: This contains a solution to a LeetCode problem. Anyone who wishes to work out these problems on their own should stop reading now.**\n",
    "\n",
    "Given a string `s`, find the longest palindromic substring in `s`. You may assume that the maximum length of `s` is 1000.\n",
    "\n",
    "Example:\n",
    "```\n",
    "Input: \"babad\"\n",
    "\n",
    "Output: \"bab\"\n",
    "\n",
    "Note: \"aba\" is also a valid answer.\n",
    "```\n",
    "\n",
    "Example:\n",
    "```\n",
    "Input: \"cbbd\"\n",
    "\n",
    "Output: \"bb\"\n",
    "```\n",
    "\n",
    "*Note: A palindrome is just a string that reads the same from right to left as left to right.*"
   ]
  },
  {
   "cell_type": "markdown",
   "metadata": {},
   "source": [
    "### Strategy: Brute Force\n",
    "1. Create `isPalindrome` helper function.\n",
    "2. Attempt to bruce force check all starting and ending positions."
   ]
  },
  {
   "cell_type": "code",
   "execution_count": 1,
   "metadata": {
    "collapsed": false
   },
   "outputs": [],
   "source": [
    "# Brute Force\n",
    "# Time: O(n^3)\n",
    "# Space: O(1)\n",
    "\n",
    "class Solution:\n",
    "    def isPalindrome(self, s):\n",
    "        \"\"\" (str) -> bool\n",
    "        \n",
    "        Returns whether a string is a palindrome\n",
    "        \n",
    "        >>> isPalindrome('aba')\n",
    "        True\n",
    "        \"\"\"\n",
    "        \n",
    "        return str(s) == str(s)[::-1]\n",
    "        \n",
    "    \n",
    "    def longestPalindrome(self, s):\n",
    "        \"\"\" (str) -> str\n",
    "        \n",
    "        Return longest palindrome in a string.\n",
    "        \n",
    "        >>> longestPalindrome(\"babad\")\n",
    "        \"bab\"\n",
    "        >>> longestPalindrome(\"cbbd\")\n",
    "        \"bb\"\n",
    "        \"\"\"\n",
    "        \n",
    "        # Return error for edge cases\n",
    "        if s is None or not isinstance(s, str):\n",
    "            return \"Invalid input.\"\n",
    "        \n",
    "        # Initialize length of string\n",
    "        n = len(s)\n",
    "        \n",
    "        # Initalize max_len\n",
    "        max_len = 1\n",
    "        best_string = ''\n",
    "        \n",
    "        # Iterate through string and check\n",
    "        for start in range(n):\n",
    "            for end in range(start, n):\n",
    "                if self.isPalindrome(s[start:end+1]):\n",
    "                    if len(s[start:end+1]) > max_len:\n",
    "                        best_string = s[start:end+1]\n",
    "                        max_len = len(s[start:end+1])\n",
    "        \n",
    "        if max_len == 1:\n",
    "            return s[0]\n",
    "        \n",
    "        return best_string"
   ]
  },
  {
   "cell_type": "code",
   "execution_count": 2,
   "metadata": {
    "collapsed": false
   },
   "outputs": [
    {
     "name": "stdout",
     "output_type": "stream",
     "text": [
      "1.53 ms ± 82.1 µs per loop (mean ± std. dev. of 6 runs, 1000 loops each)\n"
     ]
    }
   ],
   "source": [
    "%%timeit -n1000 -r6\n",
    "assert Solution().isPalindrome(\"abcdefghijklmnopponmlkjihgfedcba\")\n",
    "assert Solution().longestPalindrome(123) == \"Invalid input.\"\n",
    "assert Solution().longestPalindrome(\"babad\") == \"bab\"\n",
    "assert Solution().longestPalindrome(\"cbbd\") == \"bb\"\n",
    "assert Solution().longestPalindrome(\"abcdefghijjiklm\") == \"ijji\"\n",
    "assert Solution().longestPalindrome(\"abcdefghijjiklmmlkz\") == \"klmmlk\"\n",
    "assert Solution().longestPalindrome(\"abcdefghijklmnopqrstuvwkyz123456789\") == \"a\"\n",
    "assert Solution().longestPalindrome(\"abcdefghijklmnopqrstuvwkyz1234567899\") == \"99\"\n",
    "assert Solution().longestPalindrome(\"abcdefghijklmnopponmlkjihgfedcba\") == \"abcdefghijklmnopponmlkjihgfedcba\""
   ]
  },
  {
   "cell_type": "markdown",
   "metadata": {},
   "source": [
    "### Strategy: Dynamic Programming\n",
    "\n",
    "Dynamic programmingis a method for solving a complex problem by breaking it down into a collection of simpler subproblems, solving each of those subproblems just once, and storing their solutions. The next time the same subproblem occurs, instead of recomputing its solution, one simply looks up the previously computed solution.\n",
    "\n",
    "For this case, we can maintain a `table[i][j]` that is filled from bottem up, ie 1 length palindromes, followed by 2 length, etc. Since each new larger palindrome has to be centered around a smaller palindrome, we only need to check if the end case characters are the same.\n",
    "1. Create table.\n",
    "2. Populate all 1 length substrings as palindromes.\n",
    "3. Populate all 2 length substrings, `s[i] == s[i+1]` then palindrome.\n",
    "4. Populate for 3 and up, if `table[i+1][j-1]` is True and `s[i] == s[j]` then palindrome.\n",
    "5. Keep track of max length palindrome and return."
   ]
  },
  {
   "cell_type": "code",
   "execution_count": 3,
   "metadata": {
    "collapsed": true
   },
   "outputs": [],
   "source": [
    "# Dynamic Programming\n",
    "# Time: O(n^2)\n",
    "# Space: O(n^2)\n",
    "\n",
    "class Solution:\n",
    "    def longestPalindrome(self, s):\n",
    "        \"\"\" (str) -> str\n",
    "        \n",
    "        Return longest palindrome in a string.\n",
    "        \n",
    "        >>> longestPalindrome(\"babad\")\n",
    "        \"bab\"\n",
    "        >>> longestPalindrome(\"cbbd\")\n",
    "        \"bb\"\n",
    "        \"\"\"\n",
    "        \n",
    "        # Return error for edge cases\n",
    "        if s is None or not isinstance(s, str):\n",
    "            return \"Invalid input.\"\n",
    "        \n",
    "        # Initialize length of string\n",
    "        n = len(s)\n",
    "        \n",
    "        # Create hash table to store results\n",
    "        # Table[i][j] false if substring s[i:j] not palindrome\n",
    "        table = [[False for x in range(n)] for y in range(n)] \n",
    "        \n",
    "        # Base case: strings length one are palindromes\n",
    "        max_len = 1\n",
    "        i = 0\n",
    "        while i < n:\n",
    "            table[i][i] = True\n",
    "            i += 1\n",
    "            \n",
    "        # Check 2-length substrings\n",
    "        start = 0\n",
    "        i = 0\n",
    "        while i < n - 1:\n",
    "            if s[i] == s[i+1]:\n",
    "                table[i][i+1] = True\n",
    "                start = i\n",
    "                max_len = 2\n",
    "            i += 1\n",
    "            \n",
    "        # Check k-length substrings starting at 3\n",
    "        k = 3\n",
    "        \n",
    "        while k <= n:\n",
    "            # Get starting index\n",
    "            i = 0\n",
    "            while i < n - k + 1:\n",
    "                # Get ending index for length k\n",
    "                j = i + k - 1\n",
    "                \n",
    "                # Check if lower length substring already a palindrome and end letters match\n",
    "                if table[i+1][j-1] is True and s[i] == s[j]:\n",
    "                    # Update table with true\n",
    "                    table[i][j] = True\n",
    "                    \n",
    "                    # If length exceeds max, update search\n",
    "                    if k > max_len:\n",
    "                        start = i\n",
    "                        max_len = k\n",
    "                \n",
    "                # Move starting position\n",
    "                i += 1\n",
    "            # Increase length of search   \n",
    "            k += 1\n",
    "            \n",
    "        return s[start: start + max_len]"
   ]
  },
  {
   "cell_type": "code",
   "execution_count": 4,
   "metadata": {
    "collapsed": false
   },
   "outputs": [
    {
     "name": "stdout",
     "output_type": "stream",
     "text": [
      "749 µs ± 26.8 µs per loop (mean ± std. dev. of 6 runs, 1000 loops each)\n"
     ]
    }
   ],
   "source": [
    "%%timeit -n1000 -r6\n",
    "assert Solution().longestPalindrome(123) == \"Invalid input.\"\n",
    "assert Solution().longestPalindrome(\"babad\") == \"bab\"\n",
    "assert Solution().longestPalindrome(\"cbbd\") == \"bb\"\n",
    "assert Solution().longestPalindrome(\"abcdefghijjiklm\") == \"ijji\"\n",
    "assert Solution().longestPalindrome(\"abcdefghijjiklmmlkz\") == \"klmmlk\"\n",
    "assert Solution().longestPalindrome(\"abcdefghijklmnopqrstuvwkyz123456789\") == \"a\"\n",
    "assert Solution().longestPalindrome(\"abcdefghijklmnopqrstuvwkyz1234567899\") == \"99\"\n",
    "assert Solution().longestPalindrome(\"abcdefghijklmnopponmlkjihgfedcba\") == \"abcdefghijklmnopponmlkjihgfedcba\""
   ]
  },
  {
   "cell_type": "markdown",
   "metadata": {},
   "source": [
    "Our dynamic solution finishes in about half the time."
   ]
  },
  {
   "cell_type": "markdown",
   "metadata": {},
   "source": [
    "### Strategy: Optimizing Dynamic Programming\n",
    "\n",
    "We can come at the problem from a different angle. Say we have a base string 'aab' with a max length palindrome of 2. If we add another character, perhaps 'aaba', our max length palindrome increased by 1 to 3. If we another letter, 'aabaa', our max length palindrome increased by 2 to 5.\n",
    "\n",
    "In fact, adding another character to a string can only result in a max length increase of 1 or 2 and it has to include the added letter. Knowing this we can simplify our search:\n",
    "1. Keep track of current max_len palindrome.\n",
    "2. Interate through adding character `i` to end.\n",
    "3. For each added character, check if substrings ending in that character with length max_len + 1 or max_len + 2 are palindromes.\n",
    "4. Update max_len and repeat."
   ]
  },
  {
   "cell_type": "code",
   "execution_count": 5,
   "metadata": {
    "collapsed": false
   },
   "outputs": [],
   "source": [
    "# Manacher's Algorithm\n",
    "# Time: O(n^2)\n",
    "# Space: O(n)\n",
    "\n",
    "class Solution:\n",
    "    def isPalindrome(self, s):\n",
    "        \"\"\" (str) -> bool\n",
    "        \n",
    "        Returns whether a string is a palindrome\n",
    "        \n",
    "        >>> isPalindrome('aba')\n",
    "        True\n",
    "        \"\"\"\n",
    "        \n",
    "        return str(s) == str(s)[::-1]\n",
    "    \n",
    "    \n",
    "    def longestPalindrome(self, s):\n",
    "        \"\"\" (str) -> str\n",
    "        \n",
    "        Return longest palindrome in a string.\n",
    "        \n",
    "        >>> longestPalindrome(\"babad\")\n",
    "        \"bab\"\n",
    "        >>> longestPalindrome(\"cbbd\")\n",
    "        \"bb\"\n",
    "        \"\"\"\n",
    "        # Return error for edge cases\n",
    "        if s is None or not isinstance(s, str):\n",
    "            return \"Invalid input.\"\n",
    "        \n",
    "        # Return string if already palindrome\n",
    "        if self.isPalindrome(s):\n",
    "            return s\n",
    "        \n",
    "        # Initate starting variables\n",
    "        n = len(s)\n",
    "        max_len = 1\n",
    "        start = 0\n",
    "        \n",
    "        # Iterate through starting index\n",
    "        for i in range(n):\n",
    "            # Search until Palindrome is found, \n",
    "            if i - max_len >= 1 and self.isPalindrome(s[i-max_len-1: i+1]):\n",
    "                start = i - max_len - 1\n",
    "                max_len += 2\n",
    "                continue\n",
    "\n",
    "            if i - max_len >= 0 and self.isPalindrome(s[i-max_len: i+1]):\n",
    "                start = i - max_len\n",
    "                max_len += 1\n",
    "                \n",
    "        return s[start:start+max_len]"
   ]
  },
  {
   "cell_type": "code",
   "execution_count": 6,
   "metadata": {
    "collapsed": false
   },
   "outputs": [
    {
     "name": "stdout",
     "output_type": "stream",
     "text": [
      "185 µs ± 29.3 µs per loop (mean ± std. dev. of 6 runs, 1000 loops each)\n"
     ]
    }
   ],
   "source": [
    "%%timeit -n1000 -r6\n",
    "assert Solution().longestPalindrome(123) == \"Invalid input.\"\n",
    "assert Solution().longestPalindrome(\"babad\") == \"bab\"\n",
    "assert Solution().longestPalindrome(\"cbbd\") == \"bb\"\n",
    "assert Solution().longestPalindrome(\"abcdefghijjiklm\") == \"ijji\"\n",
    "assert Solution().longestPalindrome(\"abcdefghijjiklmmlkz\") == \"klmmlk\"\n",
    "assert Solution().longestPalindrome(\"abcdefghijklmnopqrstuvwkyz123456789\") == \"a\"\n",
    "assert Solution().longestPalindrome(\"abcdefghijklmnopqrstuvwkyz1234567899\") == \"99\"\n",
    "assert Solution().longestPalindrome(\"abcdefghijklmnopponmlkjihgfedcba\") == \"abcdefghijklmnopponmlkjihgfedcba\""
   ]
  },
  {
   "cell_type": "markdown",
   "metadata": {},
   "source": [
    "Just by playing around with our search space, we reduced our run time by nearly 10x the brute force method."
   ]
  }
 ],
 "metadata": {
  "anaconda-cloud": {},
  "kernelspec": {
   "display_name": "Python [conda env:aind]",
   "language": "python",
   "name": "conda-env-aind-py"
  },
  "language_info": {
   "codemirror_mode": {
    "name": "ipython",
    "version": 3
   },
   "file_extension": ".py",
   "mimetype": "text/x-python",
   "name": "python",
   "nbconvert_exporter": "python",
   "pygments_lexer": "ipython3",
   "version": "3.6.2"
  }
 },
 "nbformat": 4,
 "nbformat_minor": 2
}
