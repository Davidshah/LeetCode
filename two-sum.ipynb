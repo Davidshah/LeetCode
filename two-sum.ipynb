{
 "cells": [
  {
   "cell_type": "markdown",
   "metadata": {},
   "source": [
    "# Two Sum\n",
    "\n",
    "**Disclaimer: This contains a solution to a LeetCode problem. Anyone who wishes to work out these problems on their own should stop reading now.**\n",
    "\n",
    "Given an array of integers, return indices of the two numbers such that they add up to a specific target. You may assume that each input would have exactly one solution. Example:\n",
    "\n",
    "```\n",
    "Given nums = [2, 7, 11, 15], target = 9,\n",
    "\n",
    "Because nums[0] + nums[1] = 2 + 7 = 9,\n",
    "return [0, 1].\n",
    "```"
   ]
  },
  {
   "cell_type": "code",
   "execution_count": 10,
   "metadata": {
    "collapsed": true
   },
   "outputs": [],
   "source": [
    "# Brute Force Solution\n",
    "# Time:  O(n^2)\n",
    "# Space: O(1)\n",
    "\n",
    "class Solution(object):\n",
    "    def twoSum(self, nums, target):\n",
    "        \"\"\"\n",
    "        :type nums: List[int]\n",
    "        :type target: int\n",
    "        :rtype: List[int]\n",
    "        \"\"\"\n",
    "        for i in range(0,len(nums)):\n",
    "            for j in range(i+1,len(nums)):\n",
    "                if nums[j] == target - nums[i]:\n",
    "                    return [i, j]\n",
    "        \n",
    "        return \"No Solution.\""
   ]
  },
  {
   "cell_type": "code",
   "execution_count": 11,
   "metadata": {
    "collapsed": false
   },
   "outputs": [],
   "source": [
    "# Test\n",
    "assert Solution().twoSum([2,7,11,15], 9) == [0, 1]\n",
    "assert Solution().twoSum([3,2,4], 6) == [1, 2]\n",
    "assert Solution().twoSum([1,2,3,4,5,6,7,8,9,10,11,12,13,14,15,16], 31) == [14, 15]\n",
    "assert Solution().twoSum([3,2,4], 15) == \"No Solution.\""
   ]
  },
  {
   "cell_type": "code",
   "execution_count": 14,
   "metadata": {
    "collapsed": true
   },
   "outputs": [],
   "source": [
    "# Hash Table Solution\n",
    "# Time:  O(n)\n",
    "# Space: O(n)\n",
    "\n",
    "class Solution(object):\n",
    "    def twoSum(self, nums, target):\n",
    "        \"\"\"\n",
    "        :type nums: List[int]\n",
    "        :type target: int\n",
    "        :rtype: List[int]\n",
    "        \"\"\"\n",
    "        # Initialize lookup table\n",
    "        hash_table = {}\n",
    "        \n",
    "        # Get indexes and values\n",
    "        for i, num in enumerate(nums):\n",
    "            # Check if solution already stored\n",
    "            if target - num in hash_table:\n",
    "                return [hash_table[target - num], i]\n",
    "            hash_table[num] = i\n",
    "            \n",
    "        return \"No Solution.\""
   ]
  },
  {
   "cell_type": "code",
   "execution_count": 15,
   "metadata": {
    "collapsed": false
   },
   "outputs": [],
   "source": [
    "# Test\n",
    "assert Solution().twoSum([2,7,11,15], 9) == [0, 1]\n",
    "assert Solution().twoSum([3,2,4], 6) == [1, 2]\n",
    "assert Solution().twoSum([1,2,3,4,5,6,7,8,9,10,11,12,13,14,15,16], 31) == [14, 15]\n",
    "assert Solution().twoSum([3,2,4], 15) == \"No Solution.\""
   ]
  }
 ],
 "metadata": {
  "anaconda-cloud": {},
  "kernelspec": {
   "display_name": "Python [conda root]",
   "language": "python",
   "name": "conda-root-py"
  },
  "language_info": {
   "codemirror_mode": {
    "name": "ipython",
    "version": 2
   },
   "file_extension": ".py",
   "mimetype": "text/x-python",
   "name": "python",
   "nbconvert_exporter": "python",
   "pygments_lexer": "ipython2",
   "version": "2.7.12"
  }
 },
 "nbformat": 4,
 "nbformat_minor": 1
}
