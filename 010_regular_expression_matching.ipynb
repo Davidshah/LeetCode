{
 "cells": [
  {
   "cell_type": "markdown",
   "metadata": {},
   "source": [
    "# Regular Expression Matching\n",
    "\n",
    "**Disclaimer: This contains a solution to a LeetCode problem. Anyone who wishes to work out these problems on their own should stop reading now.**\n",
    "\n",
    "---"
   ]
  },
  {
   "cell_type": "markdown",
   "metadata": {},
   "source": [
    "Implement regular expression matching with support for `'.'` and `'*'`.\n",
    "```\n",
    "'.' Matches any single character.\n",
    "'*' Matches zero or more of the preceding element.\n",
    "\n",
    "The matching should cover the entire input string (not partial).\n",
    "\n",
    "The function prototype should be:\n",
    "bool isMatch(const char *s, const char *p)\n",
    "\n",
    "Some examples:\n",
    "isMatch(\"aa\",\"a\") → false\n",
    "isMatch(\"aa\",\"aa\") → true\n",
    "isMatch(\"aaa\",\"aa\") → false\n",
    "isMatch(\"aa\", \"a*\") → true\n",
    "isMatch(\"aa\", \".*\") → true\n",
    "isMatch(\"ab\", \".*\") → true\n",
    "isMatch(\"aab\", \"c*a*b\") → true\n",
    "```"
   ]
  },
  {
   "cell_type": "markdown",
   "metadata": {},
   "source": [
    "### Strategy: Dynamic Programming"
   ]
  },
  {
   "cell_type": "code",
   "execution_count": 1,
   "metadata": {
    "collapsed": true
   },
   "outputs": [],
   "source": [
    "class Solution:\n",
    "    def isMatch(self, text, pattern):\n",
    "        \"\"\" (str, str) -> bool\n",
    "        \n",
    "        Return True if string matches pattern.\n",
    "        '.' Matches any single character.\n",
    "        '*' Matches zero or more of the preceding element.\n",
    "        \n",
    "        >>> isMatch(\"aa\",\"a\")\n",
    "        False\n",
    "        >>> isMatch(\"aa\", \"a*\")\n",
    "        True\n",
    "        \"\"\"\n",
    "        table = [[False] * (len(pattern) + 1) for c in range(len(text) + 1)]\n",
    "        table[-1][-1] = True\n",
    "        \n",
    "        for i in range(len(text), -1, -1):\n",
    "            for j in range(len(pattern) - 1, -1, -1):\n",
    "                first_match = i < len(text) and pattern[j] in {text[i], '.'}\n",
    "                if j + 1 < len(pattern) and pattern[j+1] == '*':\n",
    "                    table[i][j] = table[i][j+2] or first_match and table[i+1][j]\n",
    "                else:\n",
    "                    table[i][j] = first_match and table[i+1][j+1]\n",
    "\n",
    "        return table[0][0]"
   ]
  },
  {
   "cell_type": "code",
   "execution_count": 2,
   "metadata": {
    "collapsed": false
   },
   "outputs": [
    {
     "name": "stdout",
     "output_type": "stream",
     "text": [
      "64.1 µs ± 9.76 µs per loop (mean ± std. dev. of 6 runs, 1000 loops each)\n"
     ]
    }
   ],
   "source": [
    "%%timeit -n1000 -r6\n",
    "assert Solution().isMatch(\"aa\",\"a\") == False\n",
    "assert Solution().isMatch(\"aa\",\"aa\") == True\n",
    "assert Solution().isMatch(\"aaa\",\"aa\") == False\n",
    "assert Solution().isMatch(\"aa\", \"a*\") == True\n",
    "assert Solution().isMatch(\"aa\", \".*\") == True\n",
    "assert Solution().isMatch(\"ab\", \".*\") == True\n",
    "assert Solution().isMatch(\"aab\", \"c*a*b\") == True"
   ]
  }
 ],
 "metadata": {
  "anaconda-cloud": {},
  "kernelspec": {
   "display_name": "Python [conda env:aind]",
   "language": "python",
   "name": "conda-env-aind-py"
  },
  "language_info": {
   "codemirror_mode": {
    "name": "ipython",
    "version": 3
   },
   "file_extension": ".py",
   "mimetype": "text/x-python",
   "name": "python",
   "nbconvert_exporter": "python",
   "pygments_lexer": "ipython3",
   "version": "3.6.2"
  }
 },
 "nbformat": 4,
 "nbformat_minor": 2
}
