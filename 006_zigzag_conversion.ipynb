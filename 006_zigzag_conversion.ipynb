{
 "cells": [
  {
   "cell_type": "markdown",
   "metadata": {},
   "source": [
    "# ZigZag Conversion\n",
    "\n",
    "**Disclaimer: This contains a solution to a LeetCode problem. Anyone who wishes to work out these problems on their own should stop reading now.**\n",
    "\n",
    "---"
   ]
  },
  {
   "cell_type": "markdown",
   "metadata": {},
   "source": [
    "### Problem\n",
    "\n",
    "The string `\"PAYPALISHIRING\"` is written in a zigzag pattern on a given number of rows like this:\n",
    "\n",
    "```\n",
    "P   A   H   N\n",
    "A P L S I I G\n",
    "Y   I   R\n",
    "```\n",
    "\n",
    "And then read line by line: `\"PAHNAPLSIIGYIR\"`\n",
    "\n",
    "Write the code that will take a string and make this conversion given a number of rows:\n",
    "\n",
    "```\n",
    "string convert(string text, int nRows)\n",
    "```\n",
    "\n",
    "`convert(\"PAYPALISHIRING\", 3)` should return `\"PAHNAPLSIIGYIR\"`. "
   ]
  },
  {
   "cell_type": "markdown",
   "metadata": {},
   "source": [
    "### Strategy\n",
    "1. Return s if numRow equals 1 or is larger than s length.\n",
    "2. Initalize list of strings to represent rows.\n",
    "3. Iterate through characters adding them to list of strings at index that corresponds to their row.\n",
    "4. When the first or last row is added too, switch directions and repeat."
   ]
  },
  {
   "cell_type": "code",
   "execution_count": 1,
   "metadata": {
    "collapsed": false
   },
   "outputs": [],
   "source": [
    "class Solution:\n",
    "    def convert(self, s, numRows):\n",
    "        \"\"\" (str, int) > str\n",
    "        \n",
    "        Return string written in zigzag pattern for given number\n",
    "        of rows. Example:\n",
    "        \n",
    "        PAYPALISHIRING, 3\n",
    "        \n",
    "        P   A   H   N\n",
    "        A P L S I I G\n",
    "        Y   I   R\n",
    "        \n",
    "        >>> convert(\"PAYPALISHIRING\", 3)\n",
    "        \"PAHNAPLSIIGYIR\"\n",
    "        \"\"\"\n",
    "        # Edge case: invalid input\n",
    "        if s is None or numRows is None:\n",
    "            return \"Invalid input.\"\n",
    "        \n",
    "        # Base case: return string\n",
    "        if numRows == 1 or numRows >= len(s):\n",
    "            return s\n",
    "        \n",
    "        \n",
    "        rows = [''] * numRows\n",
    "        idx = 0\n",
    "        step = -1\n",
    "        \n",
    "        # Iterate through character in string\n",
    "        for c in s:\n",
    "            # Add character to current idx row\n",
    "            rows[idx] += c\n",
    "            \n",
    "            # Change direction if at last or first row\n",
    "            if idx == 0 or idx == numRows - 1:\n",
    "                step = -step\n",
    "            \n",
    "            # Move in direction\n",
    "            idx += step\n",
    "\n",
    "        return ''.join(rows)"
   ]
  },
  {
   "cell_type": "code",
   "execution_count": 2,
   "metadata": {
    "collapsed": false
   },
   "outputs": [
    {
     "name": "stdout",
     "output_type": "stream",
     "text": [
      "15.5 µs ± 7.53 µs per loop (mean ± std. dev. of 6 runs, 1000 loops each)\n"
     ]
    }
   ],
   "source": [
    "%%timeit -n1000 -r6\n",
    "assert Solution().convert(\"PAYPALISHIRING\", None) == \"Invalid input.\"\n",
    "assert Solution().convert(\"PAYPALISHIRING\", 1) == \"PAYPALISHIRING\"\n",
    "assert Solution().convert(\"PAYPALISHIRING\", 20) == \"PAYPALISHIRING\"\n",
    "assert Solution().convert(\"PAYPALISHIRING\", 3) == \"PAHNAPLSIIGYIR\"\n",
    "assert Solution().convert(\"ABCDEFGHIJKLMNOPQRSTUVWXYZ\", 6) == \"AKUBJLTVCIMSWDHNRXEGOQYFPZ\""
   ]
  }
 ],
 "metadata": {
  "anaconda-cloud": {},
  "kernelspec": {
   "display_name": "Python [conda env:aind]",
   "language": "python",
   "name": "conda-env-aind-py"
  },
  "language_info": {
   "codemirror_mode": {
    "name": "ipython",
    "version": 3
   },
   "file_extension": ".py",
   "mimetype": "text/x-python",
   "name": "python",
   "nbconvert_exporter": "python",
   "pygments_lexer": "ipython3",
   "version": "3.6.2"
  }
 },
 "nbformat": 4,
 "nbformat_minor": 2
}
