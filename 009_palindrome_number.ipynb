{
 "cells": [
  {
   "cell_type": "markdown",
   "metadata": {},
   "source": [
    "# Palindrome Number\n",
    "\n",
    "**Disclaimer: This contains a solution to a LeetCode problem. Anyone who wishes to work out these problems on their own should stop reading now.**\n",
    "\n",
    "---"
   ]
  },
  {
   "cell_type": "markdown",
   "metadata": {},
   "source": [
    "Determine whether an integer is a palindrome. Do this without extra space.\n",
    "\n",
    "Hint: \n",
    "\n",
    "Could negative integers be palindromes? (ie, -1)\n",
    "\n",
    "If you are thinking of converting the integer to string, note the restriction of using extra space.\n",
    "\n",
    "You could also try reversing an integer. However, if you have solved the problem \"Reverse Integer\", you know that the reversed integer might overflow. How would you handle such case?\n",
    "\n",
    "There is a more generic way of solving this problem."
   ]
  },
  {
   "cell_type": "code",
   "execution_count": 1,
   "metadata": {
    "collapsed": true
   },
   "outputs": [],
   "source": [
    "class Solution:\n",
    "    def isPalindrome(self, x):\n",
    "        \"\"\" (int) -> bool\n",
    "        \n",
    "        Return whether an integer is a palindrome.\n",
    "        \n",
    "        >>> isPalindrome(111)\n",
    "        True\n",
    "        >>> isPalindrome(-111)\n",
    "        False\n",
    "        \"\"\"\n",
    "        \n",
    "        # Base case: negatives are not palindromes\n",
    "        # Base case: ints ending in 0 that arent 0 are not palindromes\n",
    "        if x < 0 or (x % 10 == 0 and x != 0):\n",
    "            return False\n",
    "        \n",
    "        # Stop half way through number, middle digits in odd length\n",
    "        # will be added to inverted\n",
    "        inverted = 0\n",
    "        while x > inverted:\n",
    "            # Extract last number and add to reverted\n",
    "            inverted = inverted * 10 + x % 10\n",
    "            # Remove last number from x\n",
    "            x //= 10\n",
    "        \n",
    "        # If even: comparte x half to inverted half\n",
    "        # If odd: remove last digit from inverted and compare\n",
    "        return x == inverted or x == inverted // 10"
   ]
  },
  {
   "cell_type": "code",
   "execution_count": 2,
   "metadata": {
    "collapsed": false
   },
   "outputs": [
    {
     "name": "stdout",
     "output_type": "stream",
     "text": [
      "10.3 µs ± 1.05 µs per loop (mean ± std. dev. of 6 runs, 1000 loops each)\n"
     ]
    }
   ],
   "source": [
    "%%timeit -n1000 -r6\n",
    "assert Solution().isPalindrome(111) == True\n",
    "assert Solution().isPalindrome(-111) == False\n",
    "assert Solution().isPalindrome(12021) == True\n",
    "assert Solution().isPalindrome(5555550) == False\n",
    "assert Solution().isPalindrome(1112220222111) == True\n",
    "assert Solution().isPalindrome(1112220322111) == False\n",
    "assert Solution().isPalindrome(2112220322111) == False\n",
    "assert Solution().isPalindrome(21222220322112) == False"
   ]
  },
  {
   "cell_type": "markdown",
   "metadata": {},
   "source": [
    "Time complexity: O(log(n))  \n",
    "Space complexity: O(1)"
   ]
  }
 ],
 "metadata": {
  "anaconda-cloud": {},
  "kernelspec": {
   "display_name": "Python [conda env:aind]",
   "language": "python",
   "name": "conda-env-aind-py"
  },
  "language_info": {
   "codemirror_mode": {
    "name": "ipython",
    "version": 3
   },
   "file_extension": ".py",
   "mimetype": "text/x-python",
   "name": "python",
   "nbconvert_exporter": "python",
   "pygments_lexer": "ipython3",
   "version": "3.6.2"
  }
 },
 "nbformat": 4,
 "nbformat_minor": 2
}
