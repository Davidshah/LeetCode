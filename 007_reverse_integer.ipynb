{
 "cells": [
  {
   "cell_type": "markdown",
   "metadata": {},
   "source": [
    "# Reverse Integer\n",
    "\n",
    "**Disclaimer: This contains a solution to a LeetCode problem. Anyone who wishes to work out these problems on their own should stop reading now.**\n",
    "\n",
    "---"
   ]
  },
  {
   "cell_type": "markdown",
   "metadata": {},
   "source": [
    "### Problem\n",
    "\n",
    "Given a 32-bit signed integer, reverse digits of an integer.\n",
    "\n",
    "Example 1:\n",
    "```\n",
    "Input: 123\n",
    "Output:  321\n",
    "```\n",
    "Example 2:\n",
    "```\n",
    "Input: -123\n",
    "Output: -321\n",
    "```\n",
    "Example 3:\n",
    "```\n",
    "Input: 120\n",
    "Output: 21\n",
    "```\n",
    "*Note: Assume we are dealing with an environment which could only hold integers within the 32-bit signed integer range. For the purpose of this problem, assume that your function returns 0 when the reversed integer overflows.*"
   ]
  },
  {
   "cell_type": "markdown",
   "metadata": {},
   "source": [
    "### Strategy: Brute Force"
   ]
  },
  {
   "cell_type": "code",
   "execution_count": 1,
   "metadata": {
    "collapsed": true
   },
   "outputs": [],
   "source": [
    "class Solution:\n",
    "    def reverse(self, x):\n",
    "        \"\"\" (int) -> int\n",
    "        \n",
    "        Return reverse digits of an integer.\n",
    "        \n",
    "        >>> reverse(123)\n",
    "        321\n",
    "        >>> reverse(-123)\n",
    "        -321\n",
    "        >>> reverse(120)\n",
    "        21\n",
    "        \"\"\"\n",
    "        # Edge case\n",
    "        if x is None:\n",
    "            return \"Invalid input.\"\n",
    "        \n",
    "        # Base case\n",
    "        if x.bit_length() > 32:\n",
    "            return 0\n",
    "        \n",
    "        # Convert to string\n",
    "        string = str(x)\n",
    "        \n",
    "        # Reverse string, extract negative first\n",
    "        if x < 0:\n",
    "            string = string[1:][::-1]\n",
    "            rev_int = -int(string)\n",
    "            if rev_int.bit_length() >= 32:\n",
    "                return 0\n",
    "            else:\n",
    "                return rev_int\n",
    "        else:\n",
    "            string = string[::-1]\n",
    "            rev_int = int(string)\n",
    "            if rev_int.bit_length() >= 32:\n",
    "                return 0\n",
    "            else:\n",
    "                return rev_int"
   ]
  },
  {
   "cell_type": "code",
   "execution_count": 2,
   "metadata": {
    "collapsed": false
   },
   "outputs": [
    {
     "name": "stdout",
     "output_type": "stream",
     "text": [
      "10.1 µs ± 2.97 µs per loop (mean ± std. dev. of 6 runs, 1000 loops each)\n"
     ]
    }
   ],
   "source": [
    "%%timeit -n1000 -r6\n",
    "assert Solution().reverse(123) == 321\n",
    "assert Solution().reverse(-123) == -321\n",
    "assert Solution().reverse(120) == 21\n",
    "assert Solution().reverse(9) == 9\n",
    "assert Solution().reverse(-9) == -9\n",
    "assert Solution().reverse(2147483647) == 0\n",
    "assert Solution().reverse(1563847412) == 0"
   ]
  },
  {
   "cell_type": "markdown",
   "metadata": {},
   "source": [
    "### Strategy: Compact"
   ]
  },
  {
   "cell_type": "code",
   "execution_count": 3,
   "metadata": {
    "collapsed": true
   },
   "outputs": [],
   "source": [
    "class Solution(object):\n",
    "    def reverse(self, x):\n",
    "        s = (x > 0) - (x < 0) # 1 or -1\n",
    "        r = int(str(x*s)[::-1]) # reverse\n",
    "        return s*r * (r < 2**31)"
   ]
  },
  {
   "cell_type": "code",
   "execution_count": 4,
   "metadata": {
    "collapsed": false
   },
   "outputs": [
    {
     "name": "stdout",
     "output_type": "stream",
     "text": [
      "8.21 µs ± 1.26 µs per loop (mean ± std. dev. of 6 runs, 1000 loops each)\n"
     ]
    }
   ],
   "source": [
    "%%timeit -n1000 -r6\n",
    "assert Solution().reverse(123) == 321\n",
    "assert Solution().reverse(-123) == -321\n",
    "assert Solution().reverse(120) == 21\n",
    "assert Solution().reverse(9) == 9\n",
    "assert Solution().reverse(-9) == -9\n",
    "assert Solution().reverse(2147483647) == 0\n",
    "assert Solution().reverse(1563847412) == 0"
   ]
  }
 ],
 "metadata": {
  "kernelspec": {
   "display_name": "Python [conda env:aind]",
   "language": "python",
   "name": "conda-env-aind-py"
  },
  "language_info": {
   "codemirror_mode": {
    "name": "ipython",
    "version": 3
   },
   "file_extension": ".py",
   "mimetype": "text/x-python",
   "name": "python",
   "nbconvert_exporter": "python",
   "pygments_lexer": "ipython3",
   "version": "3.6.2"
  }
 },
 "nbformat": 4,
 "nbformat_minor": 2
}
